{
  "nbformat": 4,
  "nbformat_minor": 0,
  "metadata": {
    "colab": {
      "name": "HW1_P3_Sound_Clustering.ipynb",
      "provenance": [],
      "collapsed_sections": []
    },
    "kernelspec": {
      "name": "python3",
      "display_name": "Python 3"
    }
  },
  "cells": [
    {
      "cell_type": "markdown",
      "metadata": {
        "id": "o44-fIiD7oO2"
      },
      "source": [
        "#Problem 3: Sound Clustering\n",
        "\n",
        "by Haotian Zhang"
      ]
    },
    {
      "cell_type": "markdown",
      "metadata": {
        "id": "sWBVY24N75TL"
      },
      "source": [
        "In sound processing, the [mel-frequency cepstrum](https://en.wikipedia.org/wiki/Mel-frequency_cepstrum#:~:text=Mel%2Dfrequency%20cepstral%20coefficients%20(MFCCs,%2Da%2Dspectrum%22).) (MFC) is a representation of the short-term power spectrum of a sound, based on a linear cosine transform of a log power spectrum on a nonlinear mel scale of frequency."
      ]
    },
    {
      "cell_type": "markdown",
      "metadata": {
        "id": "o-PhDbvj8ItE"
      },
      "source": [
        "**Mel-frequency cepstral coefficients** (MFCCs) are coefficients that collectively make up an MFC. MFCCs are commonly used as features in speech recognition systems, such as the systems which can automatically recognize numbers spoken into a telephone. MFCCs are commonly derived as follows:\n",
        "1. Take the [Fourier transform](https://en.wikipedia.org/wiki/Fourier_transform) of (a windowed excerpt of) a signal.\n",
        "2. Map the powers of the spectrum obtained above onto the mel scale, using [triangular overlapping windows](https://en.wikipedia.org/wiki/Window_function#Triangular_window).\n",
        "3.\tTake the logs of the powers at each of the mel frequencies.\n",
        "4.\tTake the [discrete cosine transform](https://en.wikipedia.org/wiki/Discrete_cosine_transform) of the list of mel log powers, as if it were a signal.\n",
        "5.\tThe MFCCs are the amplitudes of the resulting spectrum.\n",
        "\n",
        "Sounds scary and tedious? No worries. we will help you go through a simple process using Python to do the `feature extraction` for sound (music, speech, etc.) and then `classify` the audio signal into different clusters. \n"
      ]
    },
    {
      "cell_type": "markdown",
      "metadata": {
        "id": "HucG1G8r8qy5"
      },
      "source": [
        "### Feature Extraction "
      ]
    },
    {
      "cell_type": "markdown",
      "metadata": {
        "id": "zjNXk5wW84So"
      },
      "source": [
        "**Extraction of features is a very important part in analyzing and finding relations between different things**. The data provided of audio cannot be understood by the models directly to convert them into an understandable format feature extraction is used. It is a process that explains most of the data but in an understandable way. Feature extraction is required for classification, prediction and recommendation algorithms.\n",
        "\n"
      ]
    },
    {
      "cell_type": "markdown",
      "metadata": {
        "id": "UcZjRYxB9CAA"
      },
      "source": [
        "In P1, we will first extract features of animal sound files that will help us to classify the sound into different clusters. Let’s get familiar with the audio signal first. The audio signal is a 3-dimensional signal in which the three axes represent the time, amplitude and frequency.\n",
        "\n"
      ]
    },
    {
      "cell_type": "markdown",
      "metadata": {
        "id": "mIoh_XOA9H1i"
      },
      "source": [
        "We will be using [librosa](https://librosa.github.io/librosa/) for analyzing and extracting features of an audio signal. For playing audio, we will use [pyAudio](https://people.csail.mit.edu/hubert/pyaudio/docs/) so that we can play music directly on Colab. Download three audio files (`Bluejay.mp3`, `Dove.mp3` and `Ducks.wav`) provided on Canvas webapge. Upload your files by clicking `Files -> Upload to your session storage`."
      ]
    },
    {
      "cell_type": "code",
      "metadata": {
        "id": "vyRmQAIV_qZ9",
        "colab": {
          "base_uri": "https://localhost:8080/"
        },
        "outputId": "a3d3278b-c754-47a1-ba0c-238e6b242f88"
      },
      "source": [
        "# let's install librosa and pyAudio first!\n",
        "!pip install librosa\n",
        "!pip install numba==0.48\n",
        "\n",
        "!apt install libasound2-dev portaudio19-dev libportaudio2 libportaudiocpp0 ffmpeg\n",
        "!pip install pyaudio"
      ],
      "execution_count": 1,
      "outputs": [
        {
          "output_type": "stream",
          "name": "stdout",
          "text": [
            "Requirement already satisfied: librosa in /usr/local/lib/python3.7/dist-packages (0.8.1)\n",
            "Requirement already satisfied: scikit-learn!=0.19.0,>=0.14.0 in /usr/local/lib/python3.7/dist-packages (from librosa) (0.22.2.post1)\n",
            "Requirement already satisfied: soundfile>=0.10.2 in /usr/local/lib/python3.7/dist-packages (from librosa) (0.10.3.post1)\n",
            "Requirement already satisfied: decorator>=3.0.0 in /usr/local/lib/python3.7/dist-packages (from librosa) (4.4.2)\n",
            "Requirement already satisfied: packaging>=20.0 in /usr/local/lib/python3.7/dist-packages (from librosa) (21.0)\n",
            "Requirement already satisfied: scipy>=1.0.0 in /usr/local/lib/python3.7/dist-packages (from librosa) (1.4.1)\n",
            "Requirement already satisfied: numba>=0.43.0 in /usr/local/lib/python3.7/dist-packages (from librosa) (0.51.2)\n",
            "Requirement already satisfied: pooch>=1.0 in /usr/local/lib/python3.7/dist-packages (from librosa) (1.5.1)\n",
            "Requirement already satisfied: resampy>=0.2.2 in /usr/local/lib/python3.7/dist-packages (from librosa) (0.2.2)\n",
            "Requirement already satisfied: audioread>=2.0.0 in /usr/local/lib/python3.7/dist-packages (from librosa) (2.1.9)\n",
            "Requirement already satisfied: joblib>=0.14 in /usr/local/lib/python3.7/dist-packages (from librosa) (1.0.1)\n",
            "Requirement already satisfied: numpy>=1.15.0 in /usr/local/lib/python3.7/dist-packages (from librosa) (1.19.5)\n",
            "Requirement already satisfied: setuptools in /usr/local/lib/python3.7/dist-packages (from numba>=0.43.0->librosa) (57.4.0)\n",
            "Requirement already satisfied: llvmlite<0.35,>=0.34.0.dev0 in /usr/local/lib/python3.7/dist-packages (from numba>=0.43.0->librosa) (0.34.0)\n",
            "Requirement already satisfied: pyparsing>=2.0.2 in /usr/local/lib/python3.7/dist-packages (from packaging>=20.0->librosa) (2.4.7)\n",
            "Requirement already satisfied: requests in /usr/local/lib/python3.7/dist-packages (from pooch>=1.0->librosa) (2.23.0)\n",
            "Requirement already satisfied: appdirs in /usr/local/lib/python3.7/dist-packages (from pooch>=1.0->librosa) (1.4.4)\n",
            "Requirement already satisfied: six>=1.3 in /usr/local/lib/python3.7/dist-packages (from resampy>=0.2.2->librosa) (1.15.0)\n",
            "Requirement already satisfied: cffi>=1.0 in /usr/local/lib/python3.7/dist-packages (from soundfile>=0.10.2->librosa) (1.14.6)\n",
            "Requirement already satisfied: pycparser in /usr/local/lib/python3.7/dist-packages (from cffi>=1.0->soundfile>=0.10.2->librosa) (2.20)\n",
            "Requirement already satisfied: idna<3,>=2.5 in /usr/local/lib/python3.7/dist-packages (from requests->pooch>=1.0->librosa) (2.10)\n",
            "Requirement already satisfied: urllib3!=1.25.0,!=1.25.1,<1.26,>=1.21.1 in /usr/local/lib/python3.7/dist-packages (from requests->pooch>=1.0->librosa) (1.24.3)\n",
            "Requirement already satisfied: certifi>=2017.4.17 in /usr/local/lib/python3.7/dist-packages (from requests->pooch>=1.0->librosa) (2021.5.30)\n",
            "Requirement already satisfied: chardet<4,>=3.0.2 in /usr/local/lib/python3.7/dist-packages (from requests->pooch>=1.0->librosa) (3.0.4)\n",
            "Collecting numba==0.48\n",
            "  Downloading numba-0.48.0-1-cp37-cp37m-manylinux2014_x86_64.whl (3.5 MB)\n",
            "\u001b[K     |████████████████████████████████| 3.5 MB 26.2 MB/s \n",
            "\u001b[?25hCollecting llvmlite<0.32.0,>=0.31.0dev0\n",
            "  Downloading llvmlite-0.31.0-cp37-cp37m-manylinux1_x86_64.whl (20.2 MB)\n",
            "\u001b[K     |████████████████████████████████| 20.2 MB 1.6 MB/s \n",
            "\u001b[?25hRequirement already satisfied: setuptools in /usr/local/lib/python3.7/dist-packages (from numba==0.48) (57.4.0)\n",
            "Requirement already satisfied: numpy>=1.15 in /usr/local/lib/python3.7/dist-packages (from numba==0.48) (1.19.5)\n",
            "Installing collected packages: llvmlite, numba\n",
            "  Attempting uninstall: llvmlite\n",
            "    Found existing installation: llvmlite 0.34.0\n",
            "    Uninstalling llvmlite-0.34.0:\n",
            "      Successfully uninstalled llvmlite-0.34.0\n",
            "  Attempting uninstall: numba\n",
            "    Found existing installation: numba 0.51.2\n",
            "    Uninstalling numba-0.51.2:\n",
            "      Successfully uninstalled numba-0.51.2\n",
            "Successfully installed llvmlite-0.31.0 numba-0.48.0\n",
            "Reading package lists... Done\n",
            "Building dependency tree       \n",
            "Reading state information... Done\n",
            "libasound2-dev is already the newest version (1.1.3-5ubuntu0.6).\n",
            "ffmpeg is already the newest version (7:3.4.8-0ubuntu0.2).\n",
            "Suggested packages:\n",
            "  portaudio19-doc\n",
            "The following NEW packages will be installed:\n",
            "  libportaudio2 libportaudiocpp0 portaudio19-dev\n",
            "0 upgraded, 3 newly installed, 0 to remove and 37 not upgraded.\n",
            "Need to get 184 kB of archives.\n",
            "After this operation, 891 kB of additional disk space will be used.\n",
            "Get:1 http://archive.ubuntu.com/ubuntu bionic/universe amd64 libportaudio2 amd64 19.6.0-1 [64.6 kB]\n",
            "Get:2 http://archive.ubuntu.com/ubuntu bionic/universe amd64 libportaudiocpp0 amd64 19.6.0-1 [15.1 kB]\n",
            "Get:3 http://archive.ubuntu.com/ubuntu bionic/universe amd64 portaudio19-dev amd64 19.6.0-1 [104 kB]\n",
            "Fetched 184 kB in 1s (343 kB/s)\n",
            "Selecting previously unselected package libportaudio2:amd64.\n",
            "(Reading database ... 155047 files and directories currently installed.)\n",
            "Preparing to unpack .../libportaudio2_19.6.0-1_amd64.deb ...\n",
            "Unpacking libportaudio2:amd64 (19.6.0-1) ...\n",
            "Selecting previously unselected package libportaudiocpp0:amd64.\n",
            "Preparing to unpack .../libportaudiocpp0_19.6.0-1_amd64.deb ...\n",
            "Unpacking libportaudiocpp0:amd64 (19.6.0-1) ...\n",
            "Selecting previously unselected package portaudio19-dev:amd64.\n",
            "Preparing to unpack .../portaudio19-dev_19.6.0-1_amd64.deb ...\n",
            "Unpacking portaudio19-dev:amd64 (19.6.0-1) ...\n",
            "Setting up libportaudio2:amd64 (19.6.0-1) ...\n",
            "Setting up libportaudiocpp0:amd64 (19.6.0-1) ...\n",
            "Setting up portaudio19-dev:amd64 (19.6.0-1) ...\n",
            "Processing triggers for libc-bin (2.27-3ubuntu1.3) ...\n",
            "/sbin/ldconfig.real: /usr/local/lib/python3.7/dist-packages/ideep4py/lib/libmkldnn.so.0 is not a symbolic link\n",
            "\n",
            "Collecting pyaudio\n",
            "  Downloading PyAudio-0.2.11.tar.gz (37 kB)\n",
            "Building wheels for collected packages: pyaudio\n",
            "  Building wheel for pyaudio (setup.py) ... \u001b[?25l\u001b[?25hdone\n",
            "  Created wheel for pyaudio: filename=PyAudio-0.2.11-cp37-cp37m-linux_x86_64.whl size=52609 sha256=f1e67269ca28dd081a1f2e695cd6d6d804e88753943ef6feb74641a89297ff3f\n",
            "  Stored in directory: /root/.cache/pip/wheels/40/2e/4c/b71e7e96c861a46e6213bc6bb482b94dcf293a92c5e736c1ec\n",
            "Successfully built pyaudio\n",
            "Installing collected packages: pyaudio\n",
            "Successfully installed pyaudio-0.2.11\n"
          ]
        }
      ]
    },
    {
      "cell_type": "code",
      "metadata": {
        "id": "JyuSWC6W7EBX",
        "colab": {
          "base_uri": "https://localhost:8080/"
        },
        "outputId": "bd1e57b5-6119-4a8e-88b2-27b55a636e03"
      },
      "source": [
        "# Loading an audio\n",
        "# let's take bluejay.mp3 as an example\n",
        "import librosa\n",
        "\n",
        "audio_path = \"Bluejay.mp3\"\n",
        "x , sr = librosa.load(audio_path)\n",
        "print(type(x), type(sr))"
      ],
      "execution_count": 2,
      "outputs": [
        {
          "output_type": "stream",
          "name": "stderr",
          "text": [
            "/usr/local/lib/python3.7/dist-packages/librosa/core/audio.py:165: UserWarning: PySoundFile failed. Trying audioread instead.\n",
            "  warnings.warn(\"PySoundFile failed. Trying audioread instead.\")\n"
          ]
        },
        {
          "output_type": "stream",
          "name": "stdout",
          "text": [
            "<class 'numpy.ndarray'> <class 'int'>\n"
          ]
        }
      ]
    },
    {
      "cell_type": "markdown",
      "metadata": {
        "id": "HzgiAcxxA3it"
      },
      "source": [
        "`.load` loads an audio file and decodes it into a 1-dimensional array which is a time series `x` , and `sr` is a sampling rate of `x` . Default `sr` is 22kHz. We can override the `sr` by"
      ]
    },
    {
      "cell_type": "code",
      "metadata": {
        "id": "gMr5GTOBA-h8",
        "colab": {
          "base_uri": "https://localhost:8080/"
        },
        "outputId": "7fd6d4a3-6d59-4cc0-9328-d209fbf782cf"
      },
      "source": [
        "librosa.load(audio_path, sr=44100)"
      ],
      "execution_count": 3,
      "outputs": [
        {
          "output_type": "stream",
          "name": "stderr",
          "text": [
            "/usr/local/lib/python3.7/dist-packages/librosa/core/audio.py:165: UserWarning: PySoundFile failed. Trying audioread instead.\n",
            "  warnings.warn(\"PySoundFile failed. Trying audioread instead.\")\n"
          ]
        },
        {
          "output_type": "execute_result",
          "data": {
            "text/plain": [
              "(array([0.00015259, 0.00018311, 0.00018311, ..., 0.        , 0.        ,\n",
              "        0.        ], dtype=float32), 44100)"
            ]
          },
          "metadata": {},
          "execution_count": 3
        }
      ]
    },
    {
      "cell_type": "markdown",
      "metadata": {
        "id": "6B9fVa03BCXz"
      },
      "source": [
        "We can also disable sampling by:"
      ]
    },
    {
      "cell_type": "code",
      "metadata": {
        "id": "N_ZGoGPUBF7L",
        "colab": {
          "base_uri": "https://localhost:8080/"
        },
        "outputId": "e44c5cbc-6750-47b2-8cf8-46ddc39ca566"
      },
      "source": [
        "librosa.load(audio_path, sr=None)"
      ],
      "execution_count": 4,
      "outputs": [
        {
          "output_type": "stream",
          "name": "stderr",
          "text": [
            "/usr/local/lib/python3.7/dist-packages/librosa/core/audio.py:165: UserWarning: PySoundFile failed. Trying audioread instead.\n",
            "  warnings.warn(\"PySoundFile failed. Trying audioread instead.\")\n"
          ]
        },
        {
          "output_type": "execute_result",
          "data": {
            "text/plain": [
              "(array([0.00015259, 0.00018311, 0.00018311, ..., 0.        , 0.        ,\n",
              "        0.        ], dtype=float32), 44100)"
            ]
          },
          "metadata": {},
          "execution_count": 4
        }
      ]
    },
    {
      "cell_type": "code",
      "metadata": {
        "id": "PUMXUX9PB4BA",
        "colab": {
          "base_uri": "https://localhost:8080/",
          "height": 75
        },
        "outputId": "f2dfe1bb-f2f5-4d00-cf04-5574c9767530"
      },
      "source": [
        "# Playing an audio\n",
        "import IPython.display as ipd\n",
        "ipd.Audio(audio_path)"
      ],
      "execution_count": 5,
      "outputs": [
        {
          "output_type": "execute_result",
          "data": {
            "text/html": [
              "\n",
              "                <audio controls=\"controls\" >\n",
              "                    <source src=\"data:audio/mpeg;base64,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\" type=\"audio/mpeg\" />\n",
              "                    Your browser does not support the audio element.\n",
              "                </audio>\n",
              "              "
            ],
            "text/plain": [
              "<IPython.lib.display.Audio object>"
            ]
          },
          "metadata": {},
          "execution_count": 5
        }
      ]
    },
    {
      "cell_type": "markdown",
      "metadata": {
        "id": "rHrb60I-CH75"
      },
      "source": [
        "`IPython.display` allow us to play audio on jupyter notebook directly. It has a very simple interface with some basic buttons."
      ]
    },
    {
      "cell_type": "code",
      "metadata": {
        "id": "8p21KM-ACRzT",
        "colab": {
          "base_uri": "https://localhost:8080/",
          "height": 351
        },
        "outputId": "8ebf6dcb-42e6-42b8-99ae-6b611df93896"
      },
      "source": [
        "#display waveform\n",
        "%matplotlib inline\n",
        "import matplotlib.pyplot as plt\n",
        "import librosa.display\n",
        "plt.figure(figsize=(14, 5))\n",
        "librosa.display.waveplot(x, sr=sr)"
      ],
      "execution_count": 6,
      "outputs": [
        {
          "output_type": "execute_result",
          "data": {
            "text/plain": [
              "<matplotlib.collections.PolyCollection at 0x7f97fc341590>"
            ]
          },
          "metadata": {},
          "execution_count": 6
        },
        {
          "output_type": "display_data",
          "data": {
            "image/png": "[encoded data removed]",
            "text/plain": [
              "<Figure size 1008x360 with 1 Axes>"
            ]
          },
          "metadata": {
            "needs_background": "light"
          }
        }
      ]
    },
    {
      "cell_type": "markdown",
      "metadata": {
        "id": "dqrQXD4nCX33"
      },
      "source": [
        "`librosa.display` is used to display the audio files in different formats such as wave plot, spectrogram, or colormap. Waveplots let us know the loudness of the audio at a given time. Spectogram shows different frequencies playing at a particular time along with its amplitude. Amplitude and frequency are important parameters of the sound and are unique for each audio. `librosa.display.waveplot` is used to plot waveform of amplitude vs. time where the first axis is an amplitude and second axis is time."
      ]
    },
    {
      "cell_type": "markdown",
      "metadata": {
        "id": "pEZYUj7GFg6b"
      },
      "source": [
        "**MFCC - Mel-Frequency Cepstral Coefficients**\n",
        "\n",
        "This feature is one of the most important method to extract a feature of an audio signal and is used majorly whenever working on audio signals. The MFCCs of a signal are a small set of features (usually about 10–20) which concisely describe the overall shape of a spectral envelope."
      ]
    },
    {
      "cell_type": "code",
      "metadata": {
        "id": "vkqGtTHlF5a8",
        "colab": {
          "base_uri": "https://localhost:8080/",
          "height": 314
        },
        "outputId": "de5a10f1-5016-4970-d0bd-69fa9505fbe1"
      },
      "source": [
        "# MFCC — Mel-Frequency Cepstral Coefficients\n",
        "mfccs = librosa.feature.mfcc(x, sr=sr)\n",
        "print(mfccs.shape)\n",
        "# Displaying the MFCCs:\n",
        "librosa.display.specshow(mfccs, sr=sr, x_axis='time')"
      ],
      "execution_count": 7,
      "outputs": [
        {
          "output_type": "stream",
          "name": "stdout",
          "text": [
            "(20, 213)\n"
          ]
        },
        {
          "output_type": "execute_result",
          "data": {
            "text/plain": [
              "<matplotlib.collections.QuadMesh at 0x7f97fbe1de90>"
            ]
          },
          "metadata": {},
          "execution_count": 7
        },
        {
          "output_type": "display_data",
          "data": {
            "image/png": "[encoded data removed]",
            "text/plain": [
              "<Figure size 432x288 with 1 Axes>"
            ]
          },
          "metadata": {
            "needs_background": "light"
          }
        }
      ]
    },
    {
      "cell_type": "markdown",
      "metadata": {
        "id": "J9IQNpatGMmD"
      },
      "source": [
        "`.mfcc` is used to calculate mfccs of a signal.\n",
        "\n",
        "By printing the shape of mfccs you get how many mfccs are calculated on how many frames. The first value represents the number of mfccs calculated and another value represents a number of frames available."
      ]
    },
    {
      "cell_type": "markdown",
      "metadata": {
        "id": "5exfGDq3HG6C"
      },
      "source": [
        "#### Questions\n",
        "*  **Q1**: Do the framing of Bird sounds using A=20ms windows, B=10ms, and A-B=10ms of overlapping. 4 seconds of Bird sounds will generate 399 frames.\n",
        "*  **Q2**: Generate 13 MFCC coefficients for every frame. Every 4 sec of Bird sound will have 399x13 MFCC coefficients matrix as a result.\n",
        "*  **Q3**: Plot the 399x13 MFCC coefficients for all three Bird sounds in Python.\n",
        "\n",
        "Here I provide some helpful functions to use."
      ]
    },
    {
      "cell_type": "markdown",
      "metadata": {
        "id": "3wd52_PHevOW"
      },
      "source": [
        "###SampleRateSetting"
      ]
    },
    {
      "cell_type": "code",
      "metadata": {
        "id": "RPBeyo8rKiQN"
      },
      "source": [
        "# This is a fixed SampleRateSetting\n",
        "_SAMPLING_FREQ = 12000\n",
        "\n",
        "def _get_audio(audio_path):\n",
        "    # sr=None disables dynamic resampling\n",
        "    x, sr = librosa.load(audio_path, sr=_SAMPLING_FREQ)\n",
        "    print(f'Loaded {audio_path} (sampling rate {sr})')\n",
        "    return x, sr\n",
        "\n",
        "def _display_audio(x, sr):\n",
        "    # Show audio to play in Jupyter\n",
        "    ipd.display(ipd.Audio(x, rate=sr))\n",
        "\n",
        "def _compute_mfcc(x, sr, N_frames=399, Tw=20, Ts=10, alpha=0.97, R=(300, 3700), M=20, C=13, L=22):\n",
        "    \"\"\"\n",
        "    Compute MFCCs\n",
        "    \n",
        "    This is a rough re-implementation of HTK MFCC MATLAB using librosa:\n",
        "    https://www.mathworks.com/matlabcentral/fileexchange/32849-htk-mfcc-matlab?focused=5199998&tab=function\n",
        "    \n",
        "    N_frames: Number of frames\n",
        "    Tw: Analysis frame duration (ms)\n",
        "    Ts: Analysis frame shift (ms)\n",
        "    alpha: Preemphasis coefficient\n",
        "    R: Frequency range to consider (Hz)\n",
        "    M: Number of filterbank channels\n",
        "    C: Number of cepstral coefficients\n",
        "    L: Cepstral sine lifter parameter\n",
        "    \"\"\"\n",
        "    # Preemphasis filtering, per implementation\n",
        "    x = scipy.signal.lfilter([1-alpha], 1, x)\n",
        "\n",
        "    # Frame duration (samples)\n",
        "    Nw = round((Tw*10**-3)*sr)\n",
        "    # Frame shift (samples)\n",
        "    Ns = round((Ts*10**-3)*sr)\n",
        "    \n",
        "    # Length of FFT analysis\n",
        "    nfft = int(2**np.ceil(np.log2(np.abs(Nw))))\n",
        "\n",
        "    # compute melspectogram separately to modify more params\n",
        "    S = librosa.feature.melspectrogram(\n",
        "        # librosa.feature.melspectrogram\n",
        "        y=x, sr=sr,\n",
        "        n_fft=nfft,\n",
        "        hop_length=Ns,\n",
        "        win_length=Nw,\n",
        "        window=scipy.signal.hamming,\n",
        "        power=1.0,\n",
        "        center=False,  # Disable padding, per vec2frames() call in HTK MFCC MATLAB\n",
        "        # librosa.filters.mel\n",
        "        fmin=R[0],\n",
        "        fmax=R[1],\n",
        "        n_mels=M,\n",
        "        htk=True,  # Use HTK instead of Slaney formula\n",
        "        norm=None,\n",
        "    )\n",
        "    mfccs = librosa.feature.mfcc(\n",
        "        # librosa.feature.mfcc\n",
        "        S=librosa.power_to_db(S),\n",
        "        n_mfcc=C,\n",
        "        dct_type=3,  # DCT Type-III\n",
        "        lifter=L,\n",
        "        norm='ortho',\n",
        "    )\n",
        "\n",
        "    assert len(mfccs.shape) == 2\n",
        "    assert mfccs.shape[0] == 13\n",
        "\n",
        "    mfccs = mfccs[:,:N_frames]\n",
        "    if mfccs.shape[1] < N_frames:\n",
        "        warnings.warn(f'Got too few samples {mfccs.shape[1]} < {N_frames}. Appending last value to compensate')\n",
        "        for i in range(mfccs.shape[1], N_frames):\n",
        "            mfccs = np.append(mfccs, mfccs[:,-1:], axis=1)\n",
        "\n",
        "    return mfccs, Ns\n",
        "\n",
        "def _plot_mfcc(mfccs, sr, hop_length):\n",
        "    #librosa.display.specshow(mfccs)\n",
        "    librosa.display.specshow(mfccs, sr=sr, hop_length=hop_length, x_axis='time')\n",
        "    plt.ylabel('MFCC')\n",
        "    plt.colorbar()\n",
        "    plt.show()"
      ],
      "execution_count": 8,
      "outputs": []
    },
    {
      "cell_type": "markdown",
      "metadata": {
        "id": "CtAMkuWce6nP"
      },
      "source": [
        "###Q1"
      ]
    },
    {
      "cell_type": "code",
      "metadata": {
        "id": "d5VXkAPcHusb",
        "colab": {
          "base_uri": "https://localhost:8080/",
          "height": 997
        },
        "outputId": "53f66006-298a-42a7-8c45-d4079e6c422a"
      },
      "source": [
        "# TODO: Your code here. (You may use multiple code and text segments to display your solutions.)\n",
        "import scipy\n",
        "import numpy as np\n",
        "\n",
        "# Q1, Q2, Q3\n",
        "bj_x, bj_sr = _get_audio(\"Bluejay.mp3\")\n",
        "bj_mfccs, bj_Ns = _compute_mfcc(bj_x, bj_sr, R=(20, _SAMPLING_FREQ//2))\n",
        "print(bj_mfccs.shape)\n",
        "_plot_mfcc(bj_mfccs, bj_sr, bj_Ns)\n",
        "\n",
        "dv_x, dv_sr = _get_audio(\"Dove.mp3\")\n",
        "dv_mfccs, dv_Ns = _compute_mfcc(dv_x, dv_sr, R=(20, _SAMPLING_FREQ//2))\n",
        "print(dv_mfccs.shape)\n",
        "_plot_mfcc(dv_mfccs, dv_sr, dv_Ns)\n",
        "\n",
        "dk_x, dk_sr = _get_audio(\"Duck.wav\")\n",
        "dk_mfccs, dk_Ns = _compute_mfcc(dk_x, dk_sr, R=(20, _SAMPLING_FREQ//2))\n",
        "print(dk_mfccs.shape)\n",
        "_plot_mfcc(dk_mfccs, dk_sr, dk_Ns)"
      ],
      "execution_count": 9,
      "outputs": [
        {
          "output_type": "stream",
          "name": "stderr",
          "text": [
            "/usr/local/lib/python3.7/dist-packages/librosa/core/audio.py:165: UserWarning: PySoundFile failed. Trying audioread instead.\n",
            "  warnings.warn(\"PySoundFile failed. Trying audioread instead.\")\n"
          ]
        },
        {
          "output_type": "stream",
          "name": "stdout",
          "text": [
            "Loaded Bluejay.mp3 (sampling rate 12000)\n",
            "(13, 399)\n"
          ]
        },
        {
          "output_type": "display_data",
          "data": {
            "image/png": "[encoded data removed]",
            "text/plain": [
              "<Figure size 432x288 with 2 Axes>"
            ]
          },
          "metadata": {
            "needs_background": "light"
          }
        },
        {
          "output_type": "stream",
          "name": "stderr",
          "text": [
            "/usr/local/lib/python3.7/dist-packages/librosa/core/audio.py:165: UserWarning: PySoundFile failed. Trying audioread instead.\n",
            "  warnings.warn(\"PySoundFile failed. Trying audioread instead.\")\n"
          ]
        },
        {
          "output_type": "stream",
          "name": "stdout",
          "text": [
            "Loaded Dove.mp3 (sampling rate 12000)\n",
            "(13, 399)\n"
          ]
        },
        {
          "output_type": "display_data",
          "data": {
            "image/png": "[encoded data removed]",
            "text/plain": [
              "<Figure size 432x288 with 2 Axes>"
            ]
          },
          "metadata": {
            "needs_background": "light"
          }
        },
        {
          "output_type": "stream",
          "name": "stdout",
          "text": [
            "Loaded Duck.wav (sampling rate 12000)\n",
            "(13, 399)\n"
          ]
        },
        {
          "output_type": "display_data",
          "data": {
            "image/png": "[encoded data removed]",
            "text/plain": [
              "<Figure size 432x288 with 2 Axes>"
            ]
          },
          "metadata": {
            "needs_background": "light"
          }
        }
      ]
    },
    {
      "cell_type": "markdown",
      "metadata": {
        "id": "ZnrR7skgG6S5"
      },
      "source": [
        "Now, we have extracted the features of three bird signals (BlueJay, Duck and Dove). We can use this feature extracted in various use cases such as `classification` into different clusters."
      ]
    },
    {
      "cell_type": "markdown",
      "metadata": {
        "id": "g31GAO52IMHj"
      },
      "source": [
        "### Training GMM using MFCC features"
      ]
    },
    {
      "cell_type": "markdown",
      "metadata": {
        "id": "EaIOBOeHMSmF"
      },
      "source": [
        "Gaussian Mixture Model (GMM) helps to cluster the features. `sklearn.mixture` is a package which enables one to learn Gaussian Mixture Models (diagonal, spherical, tied and full covariance matrices supported), sample them, and estimate them from data. Facilities to help determine the appropriate number of components are also provided. \n",
        "\n",
        "For usage and more details, please refer to [scikit-learn GMM](https://scikit-learn.org/stable/modules/generated/sklearn.mixture.GaussianMixture.html)."
      ]
    },
    {
      "cell_type": "code",
      "metadata": {
        "id": "UZN_EFF3NBqw"
      },
      "source": [
        "import sklearn\n",
        "import sklearn.mixture\n",
        "from sklearn.metrics import accuracy_score\n",
        "from sklearn.mixture import GaussianMixture\n",
        "from collections import Counter\n"
      ],
      "execution_count": 10,
      "outputs": []
    },
    {
      "cell_type": "markdown",
      "metadata": {
        "id": "_K5KraLXLrTW"
      },
      "source": [
        "#### Questions\n",
        "*  **Q4**: Find the GMM parameters of the features found in 1. Since there are three Bird sounds, there will be three clusters. You can use existing GMM function provided from Python."
      ]
    },
    {
      "cell_type": "code",
      "metadata": {
        "id": "pUUeqttoMRwe"
      },
      "source": [
        "# Hints: \n",
        "# (1) Concatenate the MFCCs from all three sound files and become the feature matrix, \n",
        "#     leaving the last 50 samples for X_test. In the rest sets, \n",
        "#     define your training/validation set  X_train, X_val using train_test_split() \n",
        "#     and create the labels for each class y_train, y_val.\n",
        "# (2) Instantiate a Scikit-Learn GMM model by using: \n",
        "#     model = sklearn.mixture.GaussianMixture(n_components, covariance_type, reg_covar, verbose, etc.)  \n",
        "# (3) Train a model using model.fit(X_train). \n",
        "# (4) Predict the model: y_val_predict = model.predict(X_val)\n",
        "# (5) Calculate the classification accuracy using accuracy_score(y_val_predict, y_val)\n",
        "# (6) Report the y_test_predict = model.predict(X_test) and save your prediction results as     \n",
        " \t# a HW1_P4Q5_results.mat file and submit it to canvas\n",
        "\n",
        "# TODO: Your code here. (You may use multiple code and text segments to display your solutions.)\n",
        "# Q4\n",
        "\n",
        "# (1) Concatenate the MFCCs from all three sound files and become the feature matrix\n",
        "\n",
        "#Setup labels\n",
        "# Blue jay = 0\n",
        "# Dove = 1\n",
        "# Duck = 2\n",
        "bj_labels = np.zeros(399)\n",
        "dv_labels = np.ones(399)\n",
        "dk_labels = 2*np.ones(399)\n",
        "\n",
        "#Concatenate all the data with each labels\n",
        "total_data = np.concatenate((bj_mfccs.T, dv_mfccs.T, dk_mfccs.T), axis = 0)\n",
        "total_labels = np.concatenate((bj_labels, dv_labels, dk_labels), axis = 0).reshape(1197,1)\n",
        "total_labeldata = np.concatenate((total_data.T, total_labels.T), axis = 0)\n",
        "total_labeldata = total_labeldata.T\n",
        "\n",
        "\n",
        "#Shuffle data\n",
        "np.random.shuffle(total_labeldata)\n",
        "\n",
        "#Split trainset, validset, testset = 6:3:1\n",
        "trainset = total_labeldata[:800,:]\n",
        "traindata = trainset[:,:13]\n",
        "trainlabels = trainset[:,13]\n",
        "trainlabels = trainlabels.astype(int)\n",
        "\n",
        "validset = total_labeldata[800:1147,:]\n",
        "validdata = validset[:,:13]\n",
        "validlabels = validset[:,13]\n",
        "validlabels = validlabels.astype(int)\n",
        "\n",
        "testset = total_labeldata[1147:,:]\n",
        "testdata = testset[:,:13]\n",
        "testlabels = testset[:,13]\n",
        "testlabels = testlabels.astype(int)\n"
      ],
      "execution_count": 11,
      "outputs": []
    },
    {
      "cell_type": "code",
      "metadata": {
        "colab": {
          "base_uri": "https://localhost:8080/"
        },
        "id": "xYij1I86GB8W",
        "outputId": "13694309-3939-4292-fca3-2926e344379a"
      },
      "source": [
        "# (2) Instantiate a Scikit-Learn GMM model by using: \n",
        "#     model = sklearn.mixture.GaussianMixture(n_components, covariance_type, reg_covar, verbose, etc.)  \n",
        "gmm_train = GaussianMixture(n_components=3)\n",
        "\n",
        "# (3) Train a model using model.fit(X_train). \n",
        "gmm_train.fit(traindata)\n",
        "\n",
        "# (4) Predict the model: y_val_predict = model.predict(X_val)\n",
        "validlabels_pred = gmm_train.predict(validdata)\n",
        "\n",
        "count0=count1=count2= 0\n",
        "cluster0 = Counter()\n",
        "cluster1 = Counter()\n",
        "cluster2 = Counter()\n",
        "for i in range(len(validlabels_pred)):\n",
        "  if validlabels_pred[i] == 0:\n",
        "    cluster0[validlabels[i]] += 1\n",
        "    count0 += 1\n",
        "\n",
        "  if validlabels_pred[i] == 1:\n",
        "    cluster1[validlabels[i]] += 1\n",
        "    count1 += 1\n",
        "\n",
        "  if validlabels_pred[i] == 2:\n",
        "    cluster2[validlabels[i]] += 1\n",
        "    count2 += 1\n",
        "\n",
        "#printting out data----------------------------------\n",
        "print('cluster 0---------')\n",
        "print('label', 'counts')\n",
        "maxLabel = 0\n",
        "for i in cluster0.keys():\n",
        "  maxLabel = max(maxLabel, cluster0[i])\n",
        "  print((i, cluster0[i]))\n",
        "print('')\n",
        "print(f'label: {max(cluster0, key=cluster0.get)}')\n",
        "print(f'accuracy: {maxLabel/count0}')\n",
        "print('')\n",
        "\n",
        "\n",
        "print('cluster 1---------')\n",
        "print('label', 'counts')\n",
        "maxLabel = 0\n",
        "for i in cluster1.keys():\n",
        "  maxLabel = max(maxLabel, cluster1[i])\n",
        "  print((i, cluster1[i]))\n",
        "print('')\n",
        "print(f'label: {max(cluster1, key=cluster1.get)}')\n",
        "print(f'accuracy: {maxLabel/count1}')\n",
        "print('')\n",
        "\n",
        "print('cluster 2---------')\n",
        "print('label', 'counts')\n",
        "maxLabel = 0\n",
        "for i in cluster2.keys():\n",
        "  maxLabel = max(maxLabel, cluster2[i])\n",
        "  print((i, cluster2[i]))\n",
        "print('')\n",
        "print(f'label: {max(cluster2, key=cluster2.get)}')\n",
        "print(f'accuracy: {maxLabel/count2}')\n",
        "print('')"
      ],
      "execution_count": 12,
      "outputs": [
        {
          "output_type": "stream",
          "name": "stdout",
          "text": [
            "cluster 0---------\n",
            "label counts\n",
            "(2, 121)\n",
            "(0, 27)\n",
            "\n",
            "label: 2\n",
            "accuracy: 0.8175675675675675\n",
            "\n",
            "cluster 1---------\n",
            "label counts\n",
            "(0, 54)\n",
            "\n",
            "label: 0\n",
            "accuracy: 1.0\n",
            "\n",
            "cluster 2---------\n",
            "label counts\n",
            "(1, 120)\n",
            "(0, 25)\n",
            "\n",
            "label: 1\n",
            "accuracy: 0.8275862068965517\n",
            "\n"
          ]
        }
      ]
    },
    {
      "cell_type": "markdown",
      "metadata": {
        "id": "cjFkOAz9Ph1C"
      },
      "source": [
        "### Training SVM for Bird Sound Classification"
      ]
    },
    {
      "cell_type": "markdown",
      "metadata": {
        "id": "7ks6j9S-PrcJ"
      },
      "source": [
        "Support Vector Machine (SVM) helps to classification of the data. The advantages of support vector machines are:\n",
        "\n",
        "* Effective in high dimensional spaces.\n",
        "\n",
        "* Still effective in cases where number of dimensions is greater than the number of samples.\n",
        "\n",
        "* Uses a subset of training points in the decision function (called support vectors), so it is also memory efficient.\n",
        "\n",
        "* Versatile: different kernel functions can be specified for the decision function. Common kernels are provided, but it is also possible to specify custom kernels.\n",
        "\n",
        "For usage and more details, please refer to [scikit-learn SVM](https://scikit-learn.org/stable/modules/generated/sklearn.svm.SVC.html)"
      ]
    },
    {
      "cell_type": "markdown",
      "metadata": {
        "id": "-2BQBFLRReXk"
      },
      "source": [
        "`SVC` takes as input two arrays: an array `X` of shape (`n_samples`, `n_features`) holding the training samples, and an array `y` of class labels (strings or integers), of shape (`n_samples`):"
      ]
    },
    {
      "cell_type": "code",
      "metadata": {
        "id": "qe8Q9NZJRn1_",
        "colab": {
          "base_uri": "https://localhost:8080/"
        },
        "outputId": "4975d308-1e67-4499-ec92-b01725684a68"
      },
      "source": [
        "# A simple example\n",
        "from sklearn import svm\n",
        "X = [[0, 0], [1, 1]]\n",
        "y = [0, 1]\n",
        "clf = svm.SVC()\n",
        "clf.fit(X, y)"
      ],
      "execution_count": 13,
      "outputs": [
        {
          "output_type": "execute_result",
          "data": {
            "text/plain": [
              "SVC(C=1.0, break_ties=False, cache_size=200, class_weight=None, coef0=0.0,\n",
              "    decision_function_shape='ovr', degree=3, gamma='scale', kernel='rbf',\n",
              "    max_iter=-1, probability=False, random_state=None, shrinking=True,\n",
              "    tol=0.001, verbose=False)"
            ]
          },
          "metadata": {},
          "execution_count": 13
        }
      ]
    },
    {
      "cell_type": "code",
      "metadata": {
        "id": "fi8eeAiPRw35",
        "colab": {
          "base_uri": "https://localhost:8080/"
        },
        "outputId": "5d72146a-4569-41e6-d086-39249b014f2c"
      },
      "source": [
        "# After being fitted, the model can then be used to predict new values:\n",
        "print(clf.predict([[2., 2.]]))\n",
        "# You can also get support vectors from the trained model\n",
        "print(clf.support_vectors_)"
      ],
      "execution_count": 14,
      "outputs": [
        {
          "output_type": "stream",
          "name": "stdout",
          "text": [
            "[1]\n",
            "[[0. 0.]\n",
            " [1. 1.]]\n"
          ]
        }
      ]
    },
    {
      "cell_type": "code",
      "metadata": {
        "id": "qlGDZUCyTgea",
        "colab": {
          "base_uri": "https://localhost:8080/"
        },
        "outputId": "81be2c9c-0e69-4464-b904-f5db39f48f00"
      },
      "source": [
        "from sklearn.metrics import accuracy_score \n",
        "# model outputs\n",
        "outputs = clf.predict([[2., 2.]])\n",
        "# label \n",
        "y = [1]\n",
        "\n",
        "# We use accurarcy_score to get the model accuracy, which here is 1.0 (100%)\n",
        "print(\"The accuracy is {}\".format(accuracy_score(outputs, y)))"
      ],
      "execution_count": 15,
      "outputs": [
        {
          "output_type": "stream",
          "name": "stdout",
          "text": [
            "The accuracy is 1.0\n"
          ]
        }
      ]
    },
    {
      "cell_type": "markdown",
      "metadata": {
        "id": "MQecd9_APtr4"
      },
      "source": [
        "#### Questions"
      ]
    },
    {
      "cell_type": "markdown",
      "metadata": {
        "id": "DwuFAbB_Pz8V"
      },
      "source": [
        "*   **Q5**: Train the SVM model using the features found in 1. You can use existing SVM function provided from Python. "
      ]
    },
    {
      "cell_type": "code",
      "metadata": {
        "id": "Kt7N775xPzcP"
      },
      "source": [
        "# Hints: \n",
        "# (1) Concatenate the MFCCs from all three sound files and become the feature matrix, \n",
        "#     leaving the last 50 samples for X_test. In the rest sets, \n",
        "#     define your training/validation set  X_train, X_val using train_test_split() \n",
        "#     and create the labels for each class y_train, y_val.\n",
        "# (2) Instantiate a Scikit-Learn SVM model by using: \n",
        "#     model = sklearn.svm.SVC()\n",
        "# (3) Train a model using model.fit(X_train). \n",
        "# (4) Predict the model: y_val_predict = model.predict(X_val)\n",
        "# (5) Calculate the classification accuracy using accuracy_score(y_val_predict, y_val)\n",
        "# (6) Report the y_test_predict = model.predict(X_test) and save your prediction results as     \n",
        " \t# a HW1_P4Q5_results.mat file and submit it to canvas\n",
        "# TODO: Your code here. (You may use multiple code and text segments to display your solutions.)\n",
        "# Q5\n",
        "# ..."
      ],
      "execution_count": 16,
      "outputs": []
    },
    {
      "cell_type": "code",
      "metadata": {
        "colab": {
          "base_uri": "https://localhost:8080/"
        },
        "id": "CF4Wz7AGPKsd",
        "outputId": "5a647178-363f-450f-b89c-43c807d79bc1"
      },
      "source": [
        "from sklearn.svm import SVC\n",
        "#train model\n",
        "svc_train = sklearn.svm.SVC()\n",
        "svc_train.fit(traindata, trainlabels)\n",
        "\n",
        "#predict valid data\n",
        "validlabels_pred = svc_train.predict(validdata)\n",
        "accuracy_valid = accuracy_score(validlabels, validlabels_pred)\n",
        "print(f'Accuracy of validdata = {accuracy_valid}')\n",
        "\n",
        "#predict test data\n",
        "testlabels_pred = svc_train.predict(testdata)\n",
        "accuracy_test = accuracy_score(testlabels, testlabels_pred)\n",
        "print(f'Accuracy of testdata = {accuracy_test}')"
      ],
      "execution_count": 17,
      "outputs": [
        {
          "output_type": "stream",
          "name": "stdout",
          "text": [
            "Accuracy of validdata = 0.9971181556195965\n",
            "Accuracy of testdata = 1.0\n"
          ]
        }
      ]
    },
    {
      "cell_type": "markdown",
      "metadata": {
        "id": "3K03y4sCUOvU"
      },
      "source": [
        "### Training MLP for Bird Sound Classification"
      ]
    },
    {
      "cell_type": "markdown",
      "metadata": {
        "id": "I4LlszLL-8K0"
      },
      "source": [
        "#### Questions"
      ]
    },
    {
      "cell_type": "markdown",
      "metadata": {
        "id": "82Ixtp0m--gM"
      },
      "source": [
        "*   **Q6**: Train a MLP model for bird sound classification following the Pytorch_NN.ipynb tutorial. Calculate and report the classification accuracy. "
      ]
    },
    {
      "cell_type": "code",
      "metadata": {
        "colab": {
          "base_uri": "https://localhost:8080/"
        },
        "id": "mxdmOB_GgxHJ",
        "outputId": "8e65fdf2-b204-46f6-ecc1-2dbe650a5d65"
      },
      "source": [
        "import torch\n",
        "import torch.nn as nn\n",
        "import torch.nn.functional as F\n",
        "\n",
        "x = torch.rand(3, 3, 3)\n",
        "a = x.double()\n",
        "print(x.dtype)\n",
        "print(a.dtype)"
      ],
      "execution_count": 18,
      "outputs": [
        {
          "output_type": "stream",
          "name": "stdout",
          "text": [
            "torch.float32\n",
            "torch.float64\n"
          ]
        }
      ]
    },
    {
      "cell_type": "code",
      "metadata": {
        "id": "-1fFWEDbsf_U",
        "colab": {
          "base_uri": "https://localhost:8080/"
        },
        "outputId": "265087e8-f90b-406c-e039-787b1f2e0291"
      },
      "source": [
        "# TODO: Your answers here. (You may use multiple code and text segments to display your solutions.)\n",
        "# Q6\n",
        "# ...\n",
        "import torch\n",
        "import torch.nn as nn\n",
        "import torch.nn.functional as F\n",
        "import torch.optim as optim\n",
        "from torch.utils.data import DataLoader\n",
        "from torch.utils.data import TensorDataset\n",
        "import torchvision.datasets as datasets\n",
        "import torchvision.transforms as transforms\n",
        "\n",
        "\n",
        "tensor_traindata = torch.from_numpy(traindata)\n",
        "tensor_trainlabels = torch.from_numpy(trainlabels)\n",
        "tensor_validdata = torch.from_numpy(validdata)\n",
        "tensor_validlabels = torch.from_numpy(validlabels)\n",
        "tensor_testdata = torch.from_numpy(testdata)\n",
        "tensor_testlabels = torch.from_numpy(testlabels)\n",
        "\n",
        "#Create Fully Connected Netwark\n",
        "class Net(nn.Module):\n",
        "\n",
        "    def __init__(self, input_size, num_classes):\n",
        "        super(Net, self).__init__()\n",
        "        # an affine operation: y = Wx + b\n",
        "        self.fc1 = nn.Linear(input_size, 50)\n",
        "        self.fc2 = nn.Linear(50, num_classes)  \n",
        "\n",
        "    def forward(self, x):\n",
        "        x = F.relu(self.fc1(x.float()))\n",
        "        x = self.fc2(x)\n",
        "        return x\n",
        "#Set device\n",
        "device = torch.device('cuda' if torch.cuda.is_available() else 'cpu')\n",
        "#Hyperparameters\n",
        "input_size = 13\n",
        "num_classes = 3\n",
        "learning_rate = 0.01\n",
        "batch_size = 64\n",
        "num_epochs = 10\n",
        "\n",
        "#Load Data\n",
        "train_dataset = TensorDataset(tensor_traindata, tensor_trainlabels)\n",
        "train_loader = DataLoader(dataset = train_dataset, batch_size = batch_size, shuffle = True)\n",
        "valid_dataset = TensorDataset(tensor_validdata, tensor_validlabels)\n",
        "valid_loader = DataLoader(dataset = valid_dataset, batch_size = batch_size, shuffle = True)\n",
        "test_dataset = TensorDataset(tensor_testdata, tensor_testlabels)\n",
        "test_loader = DataLoader(dataset = test_dataset, batch_size = batch_size, shuffle = True)\n",
        "\n",
        "# Initialize network\n",
        "model = Net(input_size = input_size, num_classes = num_classes).to(device)\n",
        "\n",
        "# Loss and optimizer\n",
        "criterion = nn.CrossEntropyLoss()\n",
        "optimizer = optim.Adam(model.parameters(), lr = learning_rate)   \n",
        "\n",
        "# Train Network\n",
        "for epoch in range(num_epochs):\n",
        "  for batch_idx, (data, targets) in enumerate(train_loader):\n",
        "    data = data.to(device = device)\n",
        "    targets = targets.to(device = device)\n",
        "    #forward\n",
        "    scores = model(data)\n",
        "    loss = criterion(scores, targets)\n",
        "\n",
        "    #backward\n",
        "    optimizer.zero_grad()\n",
        "    loss.backward()\n",
        "\n",
        "    # gradient decent or adam step\n",
        "    optimizer.step()\n",
        "\n",
        "#Check accuracy\n",
        "def check_accuracy(loader, model):\n",
        "\n",
        "  num_correct = 0\n",
        "  num_samples = 0\n",
        "  model.eval()\n",
        "\n",
        "  with torch.no_grad():\n",
        "    for x, y in loader:\n",
        "      x = x.to(device = device)\n",
        "      y = y.to(device = device)\n",
        "\n",
        "      scores = model(x)\n",
        "      _, predictions = scores.max(1)\n",
        "      num_correct += (predictions == y).sum()\n",
        "      num_samples += predictions.size(0)\n",
        "      \n",
        "    print(f'Got {num_correct} / {num_samples} with accuracy {float(num_correct)/float(num_samples)*100:.2f}')\n",
        "\n",
        "  model.train()\n",
        "  return \n",
        "\n",
        "print('-----Train data-----')\n",
        "check_accuracy(train_loader, model)\n",
        "print('-----Valid data-----')\n",
        "check_accuracy(valid_loader, model)\n",
        "print('-----Test data-----')\n",
        "check_accuracy(test_loader, model)\n",
        "\n"
      ],
      "execution_count": 20,
      "outputs": [
        {
          "output_type": "stream",
          "name": "stdout",
          "text": [
            "-----Train data-----\n",
            "Got 788 / 800 with accuracy 98.50\n",
            "-----Valid data-----\n",
            "Got 341 / 347 with accuracy 98.27\n",
            "-----Test data-----\n",
            "Got 50 / 50 with accuracy 100.00\n"
          ]
        }
      ]
    }
  ]
}